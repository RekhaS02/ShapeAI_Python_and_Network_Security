{
  "nbformat": 4,
  "nbformat_minor": 0,
  "metadata": {
    "colab": {
      "name": "REKHA_S.ipynb",
      "provenance": []
    },
    "kernelspec": {
      "name": "python3",
      "display_name": "Python 3"
    },
    "language_info": {
      "name": "python"
    }
  },
  "cells": [
    {
      "cell_type": "code",
      "metadata": {
        "id": "0ZjzmjUG6Wex"
      },
      "source": [
        "import hashlib"
      ],
      "execution_count": null,
      "outputs": []
    },
    {
      "cell_type": "code",
      "metadata": {
        "colab": {
          "base_uri": "https://localhost:8080/"
        },
        "id": "HqXpKDCc_VTc",
        "outputId": "94ad2354-7cbb-4de6-c272-125f0853a625"
      },
      "source": [
        "print(hashlib.algorithms_available)"
      ],
      "execution_count": null,
      "outputs": [
        {
          "output_type": "stream",
          "text": [
            "{'sha3_224', 'shake_256', 'sha256', 'blake2b', 'sha3_512', 'sha512', 'sha3_256', 'sha224', 'shake_128', 'sha384', 'blake2s', 'sha3_384', 'sha1', 'md5'}\n"
          ],
          "name": "stdout"
        }
      ]
    },
    {
      "cell_type": "code",
      "metadata": {
        "id": "ji11XkFL_Z0Z"
      },
      "source": [
        "str = \"Python Programming\""
      ],
      "execution_count": 5,
      "outputs": []
    },
    {
      "cell_type": "code",
      "metadata": {
        "colab": {
          "base_uri": "https://localhost:8080/"
        },
        "id": "dgNDSXFYDApx",
        "outputId": "879f5c21-8ad5-4799-a544-79fff23f5520"
      },
      "source": [
        "result = hashlib.sha256(str.encode())\n",
        "  \n",
        "print(\"The hexadecimal equivalent of SHA256 is : \")\n",
        "print(result.hexdigest())"
      ],
      "execution_count": 6,
      "outputs": [
        {
          "output_type": "stream",
          "text": [
            "The hexadecimal equivalent of SHA256 is : \n",
            "d15647d90cc9f8e341146110bf5058773171688b237d2f9b5704399a0b17c8bd\n"
          ],
          "name": "stdout"
        }
      ]
    },
    {
      "cell_type": "code",
      "metadata": {
        "id": "9P5nwj5rDShf"
      },
      "source": [
        "str = \"Python Programming\""
      ],
      "execution_count": null,
      "outputs": []
    },
    {
      "cell_type": "code",
      "metadata": {
        "colab": {
          "base_uri": "https://localhost:8080/"
        },
        "id": "qmUIeOgEDaT7",
        "outputId": "9bb98f74-900d-4f3e-a294-12d06bb47e91"
      },
      "source": [
        "result = hashlib.sha384(str.encode())\n",
        "  \n",
        "# printing the equivalent hexadecimal value.\n",
        "print(\"The hexadecimal equivalent of SHA384 is : \")\n",
        "print(result.hexdigest())\n",
        "  "
      ],
      "execution_count": 7,
      "outputs": [
        {
          "output_type": "stream",
          "text": [
            "The hexadecimal equivalent of SHA384 is : \n",
            "b47e18e3ec5368f07b8cf724c2284aac6d37435325ddcf7ac0d87f8c6b616b7677f5ff5249bf28248be193d7c372bf12\n"
          ],
          "name": "stdout"
        }
      ]
    },
    {
      "cell_type": "code",
      "metadata": {
        "id": "X2GVcxdHDpEU"
      },
      "source": [
        "str = \"Python Programming\""
      ],
      "execution_count": null,
      "outputs": []
    },
    {
      "cell_type": "code",
      "metadata": {
        "colab": {
          "base_uri": "https://localhost:8080/"
        },
        "id": "X8CbfNRZDvW-",
        "outputId": "91906165-509b-4b0d-91b0-987560025bf9"
      },
      "source": [
        "result = hashlib.sha224(str.encode())\n",
        "  \n",
        "# printing the equivalent hexadecimal value.\n",
        "print(\"The hexadecimal equivalent of SHA224 is : \")\n",
        "print(result.hexdigest())\n",
        "  "
      ],
      "execution_count": 8,
      "outputs": [
        {
          "output_type": "stream",
          "text": [
            "The hexadecimal equivalent of SHA224 is : \n",
            "8ea37f9b3a31a488f3018a7ec22358bbb2ecc2411e97863b61c9407f\n"
          ],
          "name": "stdout"
        }
      ]
    }
  ]
}