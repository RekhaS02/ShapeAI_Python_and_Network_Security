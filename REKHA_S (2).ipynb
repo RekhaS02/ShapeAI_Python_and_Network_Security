{
  "nbformat": 4,
  "nbformat_minor": 0,
  "metadata": {
    "colab": {
      "name": "REKHA_S.ipynb",
      "provenance": [],
      "collapsed_sections": []
    },
    "kernelspec": {
      "name": "python3",
      "display_name": "Python 3"
    },
    "language_info": {
      "name": "python"
    }
  },
  "cells": [
    {
      "cell_type": "code",
      "metadata": {
        "id": "coFaDfPz129g"
      },
      "source": [
        "import hashlib"
      ],
      "execution_count": 6,
      "outputs": []
    },
    {
      "cell_type": "code",
      "metadata": {
        "id": "UZPCQooJ2Qxc"
      },
      "source": [
        "str_hash = \"Python Programming\""
      ],
      "execution_count": 11,
      "outputs": []
    },
    {
      "cell_type": "code",
      "metadata": {
        "id": "Td0vmUha2fVY"
      },
      "source": [
        "result = hashlib.md5(str_hash.encode()) "
      ],
      "execution_count": 12,
      "outputs": []
    },
    {
      "cell_type": "code",
      "metadata": {
        "colab": {
          "base_uri": "https://localhost:8080/"
        },
        "id": "xXryRCmt2pkq",
        "outputId": "4ca49366-1daa-4064-cc10-1d069a2a4b97"
      },
      "source": [
        "print(\"The hexadecimal equivalent of hash is : \", end =\"\")\n",
        "print(result.hexdigest())"
      ],
      "execution_count": 14,
      "outputs": [
        {
          "output_type": "stream",
          "text": [
            "The hexadecimal equivalent of hash is : de6ae90465e75b350ed18a2024ca16ef\n"
          ],
          "name": "stdout"
        }
      ]
    }
  ]
}